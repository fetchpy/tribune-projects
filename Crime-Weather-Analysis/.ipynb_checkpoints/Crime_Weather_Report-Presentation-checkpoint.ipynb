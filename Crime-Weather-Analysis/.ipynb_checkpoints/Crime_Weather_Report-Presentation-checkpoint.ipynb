{
 "cells": [
  {
   "cell_type": "markdown",
   "metadata": {},
   "source": [
    "# <center> Exploring the Relationship between Weather Temperature and Crime in Chicago </center>"
   ]
  },
  {
   "cell_type": "markdown",
   "metadata": {},
   "source": [
    "In this notebook, I examine the relationship between weather temperature and frequency of crimes in Chicago. In order to conduct the necessary analysis to explore this relationship, we pulled crime data from the City of Chicago Data Portal from **January,1st 2012** until **June, 7th 2017**\n",
    "[link](https://data.cityofchicago.org/Public-Safety/Crimes-One-year-prior-to-present/x2n5-8w5q). In addition, we pulled the **average daily temperature in (F)** from **January,1st 2012** until **June, 7th 2017** [link](http://mrcc.isws.illinois.edu/CLIMATE/restricted.jsp?accessdenied=%2FCLIMATE%2Fwelcome.jsp)\n",
    ".\n"
   ]
  },
  {
   "cell_type": "markdown",
   "metadata": {},
   "source": [
    "-----------------"
   ]
  },
  {
   "cell_type": "markdown",
   "metadata": {},
   "source": [
    "\n",
    "Crime rate has been declining in Chicago in the past 5 years. 2012 by far has been the deadliest year. Despite that 2017 started off with a higher number of crimes in January and Feberuary in comparison to 2016,2015,and 2014, however the general trend of crime in 2017 is still declining to be much lower than the overall number of crimes in 2012.\n",
    "\n",
    "In our first round of exploratory analysis, we wanted to see if crime and temperature have similar trends over the span of the past 5 years. In general, 2012 tend to be the warmest from Febraury to July, while 2016 was much warmer than 2012 from August until November. Our analysis shows no common trend across the years in temperature.\n",
    "\n",
    "Crime in the past 5 years            |  Weather in the past 5 years\n",
    ":-------------------------:|:-------------------------:\n",
    "![](./crime_plots/crime_5_years.jpg)  |  ![](./crime_plots/weather_5_years.jpg)\n",
    "\n",
    "This has propelled us to look at the number of crimes taking place in Chicago as a function of the average daily temperature in each year. In general, as the temperature increases the number of crimes tend to increase. However, the magnitude (or strength) of this trend varies across years. This analysis have informed us that there is a positive linear relationship between temperature and crime. We found that 2017 seems to have the lowest number of crimes despite the increase in temperature. <img src=\"./crime_plots/crime_weather_year.jpg\">\n",
    "\n",
    "Although this is interesting, yet it is insufficient as we still don't know what types of crimes are more likey to happen as temperature rises. As a first step, we plotted the distribution of crimes to idenfity which types have been frequently happening in the past 5 years. Theft, Battery, and criminal damage tend to be the three most frequent crimes with 350K, 270K, 160K incidents reported respectively in the past 5 years. <br> \n",
    "<img src=\"./crime_plots/crime_dist.jpg\"> <br>\n",
    "\n",
    "Now that we have figured out which crime incidents are the most frequent in the past 5 years, we want to know the relationship between each type of crime and temperature. We scatteplotted each crime type to visualize the trend in crime as temperature increases. We then fitted a linear regression line to determine which types of crimes get impacted the most by the rise of temperature. We assessed our results by checking which types of crimes have the steepest slopes. Our results show that **theft**, **battery**, **criminal damage**, **narcotics**, **assault**, **robbery**,and **burglary** to have a non-flat slope.\n",
    "\n",
    "Scatterplot of each crime type|  Best line fit for each crime type\n",
    ":-------------------------:|:-------------------------:\n",
    "![](./crime_plots/scatter_by_Crime.jpg)  |  ![](./crime_plots/regplot_temp.jpg)\n",
    "<br>\n",
    "We further investigated the relationship between crime and temperature on weekday (green) vs. weekend (blue). Our results show that theft, narcotics, assault, and burglury are more likley to happen on weekeday than on a weekend. In contrast, battery and criminal damage are more likely to happen on a weekend than on a weekday. It is worth noting that separate analysis conducted by the Tribune Data Viz team shows that the City of Chicago tend to categories shooting incidents as part of \"battery\". <img src=\"./crime_plots/week_vs_weekend.jpg\"> <br>\n",
    "\n",
    "In the final step of this analysis, we were interested in quantifying the effect of temperature on each type of crime. However, crime types differ from each other in the number of incidents that happen in each year. This means that each crime has its own mean that varies over time. In order to account for these variations, we constructed a Multi-level Model (MLM) where we focused only on assault, battery, burglary, criminal damage, motor vehicle theft, narcotics, and theft. We chose these crime types based on the linear regression analysis we conducted early on. In our MLM model, we accounted for the variation in the number of crimes in each year and the total number of incidents representing each crime type. Our results from this analysis show that for every 10F units increase in temperature there are:\n",
    "- 9 thefts\n",
    "- 9 battery incdients\n",
    "- 5 criminal damage incidents\n",
    "- 3 assault incidents\n",
    "- 2 burgulary incidents\n",
    "- 1 narcotics incident <br>\n",
    "\n",
    "In conclusion, based on historic crime and temperature data, we believe that the there is a relationship between crime and the rise of temperature. We are also confident to say that the rise of temperature tend to affect crime types differently. Thus, causing some crime types, such as thefts and battery, to increase much more than others."
   ]
  }
 ],
 "metadata": {
  "anaconda-cloud": {},
  "kernelspec": {
   "display_name": "Python [conda root]",
   "language": "python",
   "name": "conda-root-py"
  },
  "language_info": {
   "codemirror_mode": {
    "name": "ipython",
    "version": 3
   },
   "file_extension": ".py",
   "mimetype": "text/x-python",
   "name": "python",
   "nbconvert_exporter": "python",
   "pygments_lexer": "ipython3",
   "version": "3.5.2"
  }
 },
 "nbformat": 4,
 "nbformat_minor": 1
}
